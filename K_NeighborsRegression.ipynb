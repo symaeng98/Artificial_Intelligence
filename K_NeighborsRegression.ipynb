{
  "nbformat": 4,
  "nbformat_minor": 0,
  "metadata": {
    "colab": {
      "name": "K-NeighborsRegression.ipynb",
      "provenance": [],
      "authorship_tag": "ABX9TyPXM0cqSFPVK1q71AYt1kri",
      "include_colab_link": true
    },
    "kernelspec": {
      "name": "python3",
      "display_name": "Python 3"
    },
    "language_info": {
      "name": "python"
    }
  },
  "cells": [
    {
      "cell_type": "markdown",
      "metadata": {
        "id": "view-in-github",
        "colab_type": "text"
      },
      "source": [
        "<a href=\"https://colab.research.google.com/github/symaeng98/Artificial_Intelligence/blob/main/K_NeighborsRegression.ipynb\" target=\"_parent\"><img src=\"https://colab.research.google.com/assets/colab-badge.svg\" alt=\"Open In Colab\"/></a>"
      ]
    },
    {
      "cell_type": "code",
      "metadata": {
        "id": "sR1wp_MJNrvB"
      },
      "source": [
        "import numpy as np\n",
        "perch_length = np.array([8.4, 13.7, 15.0, 16.2, 17.4, 18.0, 18.7, 19.0, 19.6, 20.0, 21.0,\n",
        "       21.0, 21.0, 21.3, 22.0, 22.0, 22.0, 22.0, 22.0, 22.5, 22.5, 22.7,\n",
        "       23.0, 23.5, 24.0, 24.0, 24.6, 25.0, 25.6, 26.5, 27.3, 27.5, 27.5,\n",
        "       27.5, 28.0, 28.7, 30.0, 32.8, 34.5, 35.0, 36.5, 36.0, 37.0, 37.0,\n",
        "       39.0, 39.0, 39.0, 40.0, 40.0, 40.0, 40.0, 42.0, 43.0, 43.0, 43.5,\n",
        "       44.0])\n",
        "perch_weight = np.array([5.9, 32.0, 40.0, 51.5, 70.0, 100.0, 78.0, 80.0, 85.0, 85.0, 110.0,\n",
        "       115.0, 125.0, 130.0, 120.0, 120.0, 130.0, 135.0, 110.0, 130.0,\n",
        "       150.0, 145.0, 150.0, 170.0, 225.0, 145.0, 188.0, 180.0, 197.0,\n",
        "       218.0, 300.0, 260.0, 265.0, 250.0, 250.0, 300.0, 320.0, 514.0,\n",
        "       556.0, 840.0, 685.0, 700.0, 700.0, 690.0, 900.0, 650.0, 820.0,\n",
        "       850.0, 900.0, 1015.0, 820.0, 1100.0, 1000.0, 1100.0, 1000.0,\n",
        "       1000.0])\n",
        "import matplotlib.pyplot as plt\n",
        "plt.scatter(perch_length, perch_weight)\n",
        "plt.xlabel('length')\n",
        "plt.ylabel('weight')\n",
        "plt.show"
      ],
      "execution_count": null,
      "outputs": []
    },
    {
      "cell_type": "code",
      "metadata": {
        "id": "6tC8jH8DfEgg"
      },
      "source": [
        "from sklearn.model_selection import train_test_split\n",
        "train_input, test_input, train_target, test_target = train_test_split(\n",
        "    perch_length, perch_weight, random_state = 42\n",
        ")\n",
        "#여기서는 A인지 B인지 구별하지 않는데, 왜 target이 있을까?? -> target 값은 perch_weight 값들이 들어갔다."
      ],
      "execution_count": null,
      "outputs": []
    },
    {
      "cell_type": "code",
      "metadata": {
        "id": "MTBtZaFbwP8x",
        "colab": {
          "base_uri": "https://localhost:8080/"
        },
        "outputId": "d9a0f8f9-311a-42ea-93ca-bdf98f638cc0"
      },
      "source": [
        "test_array = np.array([1,2,3,4])\n",
        "print(test_array)"
      ],
      "execution_count": null,
      "outputs": [
        {
          "output_type": "stream",
          "text": [
            "[1 2 3 4]\n"
          ],
          "name": "stdout"
        }
      ]
    },
    {
      "cell_type": "code",
      "metadata": {
        "id": "AvelKJV2wXTU",
        "colab": {
          "base_uri": "https://localhost:8080/"
        },
        "outputId": "89db5910-e3d5-42c2-9e47-71ac6993ad5c"
      },
      "source": [
        "test_array = test_array.reshape(2,2) #reshap() 메서드를 사용하면, 배열의 크기를 바꿀 수 있다. \n",
        "print(test_array)"
      ],
      "execution_count": null,
      "outputs": [
        {
          "output_type": "stream",
          "text": [
            "[[1 2]\n",
            " [3 4]]\n"
          ],
          "name": "stdout"
        }
      ]
    },
    {
      "cell_type": "code",
      "metadata": {
        "id": "6p7deV-Ywnw0",
        "colab": {
          "base_uri": "https://localhost:8080/"
        },
        "outputId": "5af779bf-2c23-44cd-dc60-c3c67d781913"
      },
      "source": [
        "train_input = train_input.reshape(-1,1) #크기에 -1을 지정해주면 나머지 원소 개수로 모두 채우라는 의미이다. 배열 전체 원소의 개수를 외울 필요가 없다.\n",
        "test_input = test_input.reshape(-1,1)\n",
        "print(train_input.shape,test_input.shape)"
      ],
      "execution_count": null,
      "outputs": [
        {
          "output_type": "stream",
          "text": [
            "(42, 1) (14, 1)\n"
          ],
          "name": "stdout"
        }
      ]
    },
    {
      "cell_type": "code",
      "metadata": {
        "colab": {
          "base_uri": "https://localhost:8080/"
        },
        "id": "vbfRVCII0Fwg",
        "outputId": "7bb8bc58-1649-428c-c82b-af02e658f004"
      },
      "source": [
        "from sklearn.neighbors import KNeighborsRegressor\n",
        "\n",
        "knr = KNeighborsRegressor()\n",
        "\n",
        "knr.fit(train_input,train_target) #K-최근접 이웃 회귀 훈련\n",
        "\n",
        "print(knr.score(test_input, test_target)) #결과"
      ],
      "execution_count": null,
      "outputs": [
        {
          "output_type": "stream",
          "text": [
            "0.9928094061010639\n"
          ],
          "name": "stdout"
        }
      ]
    },
    {
      "cell_type": "code",
      "metadata": {
        "colab": {
          "base_uri": "https://localhost:8080/"
        },
        "id": "vmTvY62355kt",
        "outputId": "351358a5-5fca-46b8-becf-7bef4b2fd28c"
      },
      "source": [
        "print(knr.score(train_input, train_target))  \n",
        "# test 세트로 훈련했을 때보다 더 낮은 점수가 나왔다 \n",
        "# -> 훈련세트로 훈련을 했는데 점수가 낮다 \n",
        "# -> 모델이 너무 단순해서 훈련이 잘 되지 않았다 -> 과소적합"
      ],
      "execution_count": null,
      "outputs": [
        {
          "output_type": "stream",
          "text": [
            "0.9698823289099255\n"
          ],
          "name": "stdout"
        }
      ]
    },
    {
      "cell_type": "code",
      "metadata": {
        "colab": {
          "base_uri": "https://localhost:8080/"
        },
        "id": "L7bnuXOD39JR",
        "outputId": "bacdaf4e-cf29-498d-926a-4e85e936a765"
      },
      "source": [
        "from sklearn.metrics import mean_absolute_error\n",
        "\n",
        "#테스트 세트에 대한 예측\n",
        "test_prediction = knr.predict(test_input)\n",
        "\n",
        "#테스트 세트에 대한 평균 절댓값 오차 계산\n",
        "mae = mean_absolute_error(test_target, test_prediction)\n",
        "print(mae)"
      ],
      "execution_count": null,
      "outputs": [
        {
          "output_type": "stream",
          "text": [
            "19.157142857142862\n"
          ],
          "name": "stdout"
        }
      ]
    },
    {
      "cell_type": "code",
      "metadata": {
        "colab": {
          "base_uri": "https://localhost:8080/"
        },
        "id": "6H15LPfd5oHT",
        "outputId": "5adf61f4-f8d5-4211-e9ff-7137ea6aaf27"
      },
      "source": [
        "knr.n_neighbors = 3 #이웃의 개수 설정\n",
        "\n",
        "knr.fit(train_input, train_target)\n",
        "print(knr.score(train_input, train_target))"
      ],
      "execution_count": null,
      "outputs": [
        {
          "output_type": "stream",
          "text": [
            "0.9804899950518966\n"
          ],
          "name": "stdout"
        }
      ]
    },
    {
      "cell_type": "code",
      "metadata": {
        "id": "uRfT-OnKpbyG"
      },
      "source": [
        "knr = KNeighborsRegressor()\n",
        "\n",
        "#길이를 5~45까지 바꿔가며 예측\n",
        "x = np.arange(5, 45).reshape(-1,1)\n",
        "\n",
        "#k값을 1,5,10으로 바꿔가며 훈련\n",
        "for n in [1,5,10]:\n",
        "  knr.n_neighbors = n\n",
        "  knr.fit(train_input, train_target)\n",
        "  #x값에 대한 예측값\n",
        "  prediction = knr.predict(x)\n",
        "\n",
        "  plt.scatter(train_input, train_target)\n",
        "  plt.plot(x, prediction) #x에 대한 예측값을 그래프로 그려준다\n",
        "  plt.title('n_neighbors = {}'.format(n))\n",
        "  plt.xlabel('length')\n",
        "  plt.ylabel('weight')\n",
        "  plt.show()"
      ],
      "execution_count": null,
      "outputs": []
    }
  ]
}