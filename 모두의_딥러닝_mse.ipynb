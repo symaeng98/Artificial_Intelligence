{
  "nbformat": 4,
  "nbformat_minor": 0,
  "metadata": {
    "colab": {
      "name": "모두의 딥러닝 - mse.ipynb",
      "provenance": [],
      "authorship_tag": "ABX9TyMhrQwEUR7Fn7UGhmbKeUlb",
      "include_colab_link": true
    },
    "kernelspec": {
      "name": "python3",
      "display_name": "Python 3"
    },
    "language_info": {
      "name": "python"
    }
  },
  "cells": [
    {
      "cell_type": "markdown",
      "metadata": {
        "id": "view-in-github",
        "colab_type": "text"
      },
      "source": [
        "<a href=\"https://colab.research.google.com/github/symaeng98/Artificial_Intelligence/blob/main/%EB%AA%A8%EB%91%90%EC%9D%98_%EB%94%A5%EB%9F%AC%EB%8B%9D_mse.ipynb\" target=\"_parent\"><img src=\"https://colab.research.google.com/assets/colab-badge.svg\" alt=\"Open In Colab\"/></a>"
      ]
    },
    {
      "cell_type": "code",
      "execution_count": 1,
      "metadata": {
        "id": "tVQOU03_ivKW"
      },
      "outputs": [],
      "source": [
        "import numpy as np"
      ]
    },
    {
      "cell_type": "code",
      "source": [
        "# 가상의 기울기 a와 y 절편 b를 정한다.\n",
        "fake_a = 3\n",
        "fake_b = 76\n",
        "\n",
        "x = np.array([2,4,6,8])\n",
        "y = np.array([81,93, 91, 97])"
      ],
      "metadata": {
        "id": "lLbWNA3Di8L6"
      },
      "execution_count": 3,
      "outputs": []
    },
    {
      "cell_type": "code",
      "source": [
        "def predict(x):\n",
        "  return fake_a * x + fake_b"
      ],
      "metadata": {
        "id": "H_d0kEigjP9u"
      },
      "execution_count": 4,
      "outputs": []
    },
    {
      "cell_type": "code",
      "source": [
        "predict_result = []\n",
        "\n",
        "for i in range(len(x)):\n",
        "  predict_result.append(predict(x[i]))\n",
        "  print(\"공부시간=%.f, 실제점수=%.f, 예측점수=%.f\" % (x[i], y[i], predict(x[i])))"
      ],
      "metadata": {
        "colab": {
          "base_uri": "https://localhost:8080/"
        },
        "id": "yVRStQ30jU11",
        "outputId": "ce33110c-9454-4d03-9627-c4fbcea68111"
      },
      "execution_count": 5,
      "outputs": [
        {
          "output_type": "stream",
          "name": "stdout",
          "text": [
            "공부시간=2, 실제점수=81, 예측점수=82\n",
            "공부시간=4, 실제점수=93, 예측점수=88\n",
            "공부시간=6, 실제점수=91, 예측점수=94\n",
            "공부시간=8, 실제점수=97, 예측점수=100\n"
          ]
        }
      ]
    },
    {
      "cell_type": "code",
      "source": [
        "n = len(x)\n",
        "def mse(y, y_pred):\n",
        "  return (1/n) * sum((y-y_pred)**2)"
      ],
      "metadata": {
        "id": "94-9jO8ujtsl"
      },
      "execution_count": 6,
      "outputs": []
    },
    {
      "cell_type": "code",
      "source": [
        "print(\"평균 제곱 오차: \" + str(mse(y,predict_result)))"
      ],
      "metadata": {
        "colab": {
          "base_uri": "https://localhost:8080/"
        },
        "id": "SU_Kvffej1b3",
        "outputId": "eac455f1-8774-48bf-e553-49e78126637f"
      },
      "execution_count": 7,
      "outputs": [
        {
          "output_type": "stream",
          "name": "stdout",
          "text": [
            "평균 제곱 오차: 11.0\n"
          ]
        }
      ]
    },
    {
      "cell_type": "code",
      "source": [
        ""
      ],
      "metadata": {
        "id": "VpKAngfroIQ2"
      },
      "execution_count": null,
      "outputs": []
    }
  ]
}